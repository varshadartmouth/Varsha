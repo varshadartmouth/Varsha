{
  "cells": [
    {
      "cell_type": "markdown",
      "metadata": {
        "id": "view-in-github",
        "colab_type": "text"
      },
      "source": [
        "<a href=\"https://colab.research.google.com/github/varshadartmouth/Varsha/blob/main/AzureOpenAI.ipynb\" target=\"_parent\"><img src=\"https://colab.research.google.com/assets/colab-badge.svg\" alt=\"Open In Colab\"/></a>"
      ]
    },
    {
      "cell_type": "markdown",
      "id": "ec51f656",
      "metadata": {
        "id": "ec51f656"
      },
      "source": [
        "# Tacit Azure OpenAI"
      ]
    },
    {
      "cell_type": "code",
      "execution_count": null,
      "id": "de32bc14",
      "metadata": {
        "id": "de32bc14",
        "outputId": "86932e6d-310c-4835-c47e-af25c503351b",
        "colab": {
          "base_uri": "https://localhost:8080/"
        }
      },
      "outputs": [
        {
          "output_type": "stream",
          "name": "stdout",
          "text": [
            "Collecting llama-index\n",
            "  Downloading llama_index-0.9.15-py3-none-any.whl (964 kB)\n",
            "\u001b[2K     \u001b[90m━━━━━━━━━━━━━━━━━━━━━━━━━━━━━━━━━━━━━━━━\u001b[0m \u001b[32m964.2/964.2 kB\u001b[0m \u001b[31m7.1 MB/s\u001b[0m eta \u001b[36m0:00:00\u001b[0m\n",
            "\u001b[?25hRequirement already satisfied: SQLAlchemy[asyncio]>=1.4.49 in /usr/local/lib/python3.10/dist-packages (from llama-index) (2.0.23)\n",
            "Requirement already satisfied: aiohttp<4.0.0,>=3.8.6 in /usr/local/lib/python3.10/dist-packages (from llama-index) (3.9.1)\n",
            "Collecting beautifulsoup4<5.0.0,>=4.12.2 (from llama-index)\n",
            "  Downloading beautifulsoup4-4.12.2-py3-none-any.whl (142 kB)\n",
            "\u001b[2K     \u001b[90m━━━━━━━━━━━━━━━━━━━━━━━━━━━━━━━━━━━━━━━━\u001b[0m \u001b[32m143.0/143.0 kB\u001b[0m \u001b[31m9.5 MB/s\u001b[0m eta \u001b[36m0:00:00\u001b[0m\n",
            "\u001b[?25hCollecting dataclasses-json (from llama-index)\n",
            "  Downloading dataclasses_json-0.6.3-py3-none-any.whl (28 kB)\n",
            "Collecting deprecated>=1.2.9.3 (from llama-index)\n",
            "  Downloading Deprecated-1.2.14-py2.py3-none-any.whl (9.6 kB)\n",
            "Requirement already satisfied: fsspec>=2023.5.0 in /usr/local/lib/python3.10/dist-packages (from llama-index) (2023.6.0)\n",
            "Collecting httpx (from llama-index)\n",
            "  Downloading httpx-0.25.2-py3-none-any.whl (74 kB)\n",
            "\u001b[2K     \u001b[90m━━━━━━━━━━━━━━━━━━━━━━━━━━━━━━━━━━━━━━━━\u001b[0m \u001b[32m75.0/75.0 kB\u001b[0m \u001b[31m9.3 MB/s\u001b[0m eta \u001b[36m0:00:00\u001b[0m\n",
            "\u001b[?25hRequirement already satisfied: nest-asyncio<2.0.0,>=1.5.8 in /usr/local/lib/python3.10/dist-packages (from llama-index) (1.5.8)\n",
            "Requirement already satisfied: nltk<4.0.0,>=3.8.1 in /usr/local/lib/python3.10/dist-packages (from llama-index) (3.8.1)\n",
            "Requirement already satisfied: numpy in /usr/local/lib/python3.10/dist-packages (from llama-index) (1.23.5)\n",
            "Collecting openai>=1.1.0 (from llama-index)\n",
            "  Downloading openai-1.3.9-py3-none-any.whl (221 kB)\n",
            "\u001b[2K     \u001b[90m━━━━━━━━━━━━━━━━━━━━━━━━━━━━━━━━━━━━━━━━\u001b[0m \u001b[32m221.4/221.4 kB\u001b[0m \u001b[31m9.4 MB/s\u001b[0m eta \u001b[36m0:00:00\u001b[0m\n",
            "\u001b[?25hRequirement already satisfied: pandas in /usr/local/lib/python3.10/dist-packages (from llama-index) (1.5.3)\n",
            "Requirement already satisfied: requests>=2.31.0 in /usr/local/lib/python3.10/dist-packages (from llama-index) (2.31.0)\n",
            "Requirement already satisfied: tenacity<9.0.0,>=8.2.0 in /usr/local/lib/python3.10/dist-packages (from llama-index) (8.2.3)\n",
            "Collecting tiktoken>=0.3.3 (from llama-index)\n",
            "  Downloading tiktoken-0.5.2-cp310-cp310-manylinux_2_17_x86_64.manylinux2014_x86_64.whl (2.0 MB)\n",
            "\u001b[2K     \u001b[90m━━━━━━━━━━━━━━━━━━━━━━━━━━━━━━━━━━━━━━━━\u001b[0m \u001b[32m2.0/2.0 MB\u001b[0m \u001b[31m14.7 MB/s\u001b[0m eta \u001b[36m0:00:00\u001b[0m\n",
            "\u001b[?25hCollecting types-protobuf<5.0.0.0,>=4.24.0.4 (from llama-index)\n",
            "  Downloading types_protobuf-4.24.0.4-py3-none-any.whl (62 kB)\n",
            "\u001b[2K     \u001b[90m━━━━━━━━━━━━━━━━━━━━━━━━━━━━━━━━━━━━━━━━\u001b[0m \u001b[32m62.1/62.1 kB\u001b[0m \u001b[31m6.0 MB/s\u001b[0m eta \u001b[36m0:00:00\u001b[0m\n",
            "\u001b[?25hRequirement already satisfied: typing-extensions>=4.5.0 in /usr/local/lib/python3.10/dist-packages (from llama-index) (4.5.0)\n",
            "Collecting typing-inspect>=0.8.0 (from llama-index)\n",
            "  Downloading typing_inspect-0.9.0-py3-none-any.whl (8.8 kB)\n",
            "Requirement already satisfied: attrs>=17.3.0 in /usr/local/lib/python3.10/dist-packages (from aiohttp<4.0.0,>=3.8.6->llama-index) (23.1.0)\n",
            "Requirement already satisfied: multidict<7.0,>=4.5 in /usr/local/lib/python3.10/dist-packages (from aiohttp<4.0.0,>=3.8.6->llama-index) (6.0.4)\n",
            "Requirement already satisfied: yarl<2.0,>=1.0 in /usr/local/lib/python3.10/dist-packages (from aiohttp<4.0.0,>=3.8.6->llama-index) (1.9.3)\n",
            "Requirement already satisfied: frozenlist>=1.1.1 in /usr/local/lib/python3.10/dist-packages (from aiohttp<4.0.0,>=3.8.6->llama-index) (1.4.0)\n",
            "Requirement already satisfied: aiosignal>=1.1.2 in /usr/local/lib/python3.10/dist-packages (from aiohttp<4.0.0,>=3.8.6->llama-index) (1.3.1)\n",
            "Requirement already satisfied: async-timeout<5.0,>=4.0 in /usr/local/lib/python3.10/dist-packages (from aiohttp<4.0.0,>=3.8.6->llama-index) (4.0.3)\n",
            "Requirement already satisfied: soupsieve>1.2 in /usr/local/lib/python3.10/dist-packages (from beautifulsoup4<5.0.0,>=4.12.2->llama-index) (2.5)\n",
            "Requirement already satisfied: wrapt<2,>=1.10 in /usr/local/lib/python3.10/dist-packages (from deprecated>=1.2.9.3->llama-index) (1.14.1)\n",
            "Requirement already satisfied: click in /usr/local/lib/python3.10/dist-packages (from nltk<4.0.0,>=3.8.1->llama-index) (8.1.7)\n",
            "Requirement already satisfied: joblib in /usr/local/lib/python3.10/dist-packages (from nltk<4.0.0,>=3.8.1->llama-index) (1.3.2)\n",
            "Requirement already satisfied: regex>=2021.8.3 in /usr/local/lib/python3.10/dist-packages (from nltk<4.0.0,>=3.8.1->llama-index) (2023.6.3)\n",
            "Requirement already satisfied: tqdm in /usr/local/lib/python3.10/dist-packages (from nltk<4.0.0,>=3.8.1->llama-index) (4.66.1)\n",
            "Requirement already satisfied: anyio<5,>=3.5.0 in /usr/local/lib/python3.10/dist-packages (from openai>=1.1.0->llama-index) (3.7.1)\n",
            "Requirement already satisfied: distro<2,>=1.7.0 in /usr/lib/python3/dist-packages (from openai>=1.1.0->llama-index) (1.7.0)\n",
            "Requirement already satisfied: pydantic<3,>=1.9.0 in /usr/local/lib/python3.10/dist-packages (from openai>=1.1.0->llama-index) (1.10.13)\n",
            "Requirement already satisfied: sniffio in /usr/local/lib/python3.10/dist-packages (from openai>=1.1.0->llama-index) (1.3.0)\n",
            "Requirement already satisfied: certifi in /usr/local/lib/python3.10/dist-packages (from httpx->llama-index) (2023.11.17)\n",
            "Collecting httpcore==1.* (from httpx->llama-index)\n",
            "  Downloading httpcore-1.0.2-py3-none-any.whl (76 kB)\n",
            "\u001b[2K     \u001b[90m━━━━━━━━━━━━━━━━━━━━━━━━━━━━━━━━━━━━━━━━\u001b[0m \u001b[32m76.9/76.9 kB\u001b[0m \u001b[31m6.9 MB/s\u001b[0m eta \u001b[36m0:00:00\u001b[0m\n",
            "\u001b[?25hRequirement already satisfied: idna in /usr/local/lib/python3.10/dist-packages (from httpx->llama-index) (3.6)\n",
            "Collecting h11<0.15,>=0.13 (from httpcore==1.*->httpx->llama-index)\n",
            "  Downloading h11-0.14.0-py3-none-any.whl (58 kB)\n",
            "\u001b[2K     \u001b[90m━━━━━━━━━━━━━━━━━━━━━━━━━━━━━━━━━━━━━━━━\u001b[0m \u001b[32m58.3/58.3 kB\u001b[0m \u001b[31m6.5 MB/s\u001b[0m eta \u001b[36m0:00:00\u001b[0m\n",
            "\u001b[?25hRequirement already satisfied: charset-normalizer<4,>=2 in /usr/local/lib/python3.10/dist-packages (from requests>=2.31.0->llama-index) (3.3.2)\n",
            "Requirement already satisfied: urllib3<3,>=1.21.1 in /usr/local/lib/python3.10/dist-packages (from requests>=2.31.0->llama-index) (2.0.7)\n",
            "Requirement already satisfied: greenlet!=0.4.17 in /usr/local/lib/python3.10/dist-packages (from SQLAlchemy[asyncio]>=1.4.49->llama-index) (3.0.1)\n",
            "Collecting mypy-extensions>=0.3.0 (from typing-inspect>=0.8.0->llama-index)\n",
            "  Downloading mypy_extensions-1.0.0-py3-none-any.whl (4.7 kB)\n",
            "Collecting marshmallow<4.0.0,>=3.18.0 (from dataclasses-json->llama-index)\n",
            "  Downloading marshmallow-3.20.1-py3-none-any.whl (49 kB)\n",
            "\u001b[2K     \u001b[90m━━━━━━━━━━━━━━━━━━━━━━━━━━━━━━━━━━━━━━━━\u001b[0m \u001b[32m49.4/49.4 kB\u001b[0m \u001b[31m5.6 MB/s\u001b[0m eta \u001b[36m0:00:00\u001b[0m\n",
            "\u001b[?25hRequirement already satisfied: python-dateutil>=2.8.1 in /usr/local/lib/python3.10/dist-packages (from pandas->llama-index) (2.8.2)\n",
            "Requirement already satisfied: pytz>=2020.1 in /usr/local/lib/python3.10/dist-packages (from pandas->llama-index) (2023.3.post1)\n",
            "Requirement already satisfied: exceptiongroup in /usr/local/lib/python3.10/dist-packages (from anyio<5,>=3.5.0->openai>=1.1.0->llama-index) (1.2.0)\n",
            "Requirement already satisfied: packaging>=17.0 in /usr/local/lib/python3.10/dist-packages (from marshmallow<4.0.0,>=3.18.0->dataclasses-json->llama-index) (23.2)\n",
            "Requirement already satisfied: six>=1.5 in /usr/local/lib/python3.10/dist-packages (from python-dateutil>=2.8.1->pandas->llama-index) (1.16.0)\n",
            "Installing collected packages: types-protobuf, mypy-extensions, marshmallow, h11, deprecated, beautifulsoup4, typing-inspect, tiktoken, httpcore, httpx, dataclasses-json, openai, llama-index\n",
            "  Attempting uninstall: beautifulsoup4\n",
            "    Found existing installation: beautifulsoup4 4.11.2\n",
            "    Uninstalling beautifulsoup4-4.11.2:\n",
            "      Successfully uninstalled beautifulsoup4-4.11.2\n",
            "\u001b[31mERROR: pip's dependency resolver does not currently take into account all the packages that are installed. This behaviour is the source of the following dependency conflicts.\n",
            "llmx 0.0.15a0 requires cohere, which is not installed.\u001b[0m\u001b[31m\n",
            "\u001b[0mSuccessfully installed beautifulsoup4-4.12.2 dataclasses-json-0.6.3 deprecated-1.2.14 h11-0.14.0 httpcore-1.0.2 httpx-0.25.2 llama-index-0.9.15 marshmallow-3.20.1 mypy-extensions-1.0.0 openai-1.3.9 tiktoken-0.5.2 types-protobuf-4.24.0.4 typing-inspect-0.9.0\n"
          ]
        }
      ],
      "source": [
        "!pip install llama-index"
      ]
    },
    {
      "cell_type": "code",
      "execution_count": null,
      "id": "b05e71d5",
      "metadata": {
        "id": "b05e71d5"
      },
      "outputs": [],
      "source": [
        "from llama_index.llms import AzureOpenAI\n",
        "from llama_index.embeddings import AzureOpenAIEmbedding\n",
        "from llama_index import VectorStoreIndex, SimpleDirectoryReader, ServiceContext\n",
        "import logging\n",
        "import sys\n",
        "\n",
        "logging.basicConfig(\n",
        "    stream=sys.stdout, level=logging.INFO\n",
        ")  # logging.DEBUG for more verbose output\n",
        "logging.getLogger().addHandler(logging.StreamHandler(stream=sys.stdout))"
      ]
    },
    {
      "cell_type": "code",
      "execution_count": null,
      "id": "e2569cb0",
      "metadata": {
        "id": "e2569cb0"
      },
      "outputs": [],
      "source": [
        "api_key = \"b932f235298041c6a3a442679726e261\"\n",
        "azure_endpoint = \"https://tacitalpha.openai.azure.com/\"\n",
        "api_version = \"2023-07-01-preview\"\n",
        "\n",
        "llm = AzureOpenAI(\n",
        "    model=\"gpt-35-turbo\",\n",
        "    deployment_name=\"gpt-35-turbo-0613\",\n",
        "    api_key=api_key,\n",
        "    azure_endpoint=azure_endpoint,\n",
        "    api_version=api_version,\n",
        ")\n",
        "\n",
        "embed_model = AzureOpenAIEmbedding(\n",
        "    model=\"text-embedding-ada-002\",\n",
        "    deployment_name=\"text-embedding-ada-002\",\n",
        "    api_key=api_key,\n",
        "    azure_endpoint=azure_endpoint,\n",
        "    api_version=api_version,\n",
        ")"
      ]
    },
    {
      "cell_type": "code",
      "execution_count": null,
      "id": "72aac5a6-495e-40d2-82d3-bda8688ae919",
      "metadata": {
        "id": "72aac5a6-495e-40d2-82d3-bda8688ae919",
        "outputId": "9e9b4748-4c89-405c-e8d0-f75e106efae4",
        "colab": {
          "base_uri": "https://localhost:8080/"
        }
      },
      "outputs": [
        {
          "output_type": "stream",
          "name": "stderr",
          "text": [
            "[nltk_data] Downloading package punkt to /tmp/llama_index...\n",
            "[nltk_data]   Unzipping tokenizers/punkt.zip.\n"
          ]
        }
      ],
      "source": [
        "from llama_index import set_global_service_context\n",
        "\n",
        "service_context = ServiceContext.from_defaults(\n",
        "    llm=llm,\n",
        "    embed_model=embed_model,\n",
        ")\n",
        "\n",
        "set_global_service_context(service_context)"
      ]
    },
    {
      "cell_type": "code",
      "execution_count": null,
      "id": "1cf0e9c9",
      "metadata": {
        "id": "1cf0e9c9"
      },
      "outputs": [],
      "source": [
        "documents = SimpleDirectoryReader(\n",
        "    input_files=[\"/content/sample_data/test/test.txt\"]\n",
        ").load_data()\n",
        "index = VectorStoreIndex.from_documents(documents)"
      ]
    },
    {
      "cell_type": "code",
      "execution_count": null,
      "id": "98d9d3fd",
      "metadata": {
        "id": "98d9d3fd",
        "outputId": "91d9baff-e8e0-44b9-d67e-4c6f2fae5d92",
        "colab": {
          "base_uri": "https://localhost:8080/"
        }
      },
      "outputs": [
        {
          "output_type": "stream",
          "name": "stdout",
          "text": [
            "Query: What is most interesting about this document?\n",
            "Answer: The most interesting aspect of this document is the discussion of how private LTE networks are transforming the utility sector. It highlights the benefits and real-world applications of private LTE networks in improving grid management, enhancing grid resiliency, and supporting mission-critical applications. The document also emphasizes the potential of private LTE networks in addressing the evolving needs of modern utilities and driving advancements in grid management and energy delivery.\n"
          ]
        }
      ],
      "source": [
        "query = \"What is most interesting about this document?\"\n",
        "query_engine = index.as_query_engine()\n",
        "answer = query_engine.query(query)\n",
        "\n",
        "#print(answer.get_formatted_sources())\n",
        "print(\"Query:\", query)\n",
        "print(\"Answer:\", answer)"
      ]
    },
    {
      "cell_type": "code",
      "source": [
        "query = \"What is the main focus of the whitepaper titled From Vision to Reality: Private LTE Networks Transforming Utility Grids?\"\n",
        "query_engine = index.as_query_engine()\n",
        "answer = query_engine.query(query)\n",
        "\n",
        "#print(answer.get_formatted_sources())\n",
        "print(\"Query:\", query)\n",
        "print(\"Answer:\", answer)"
      ],
      "metadata": {
        "id": "GeJKZvh6F9PO",
        "outputId": "b133aeef-1e40-4374-96fd-708a309be7fc",
        "colab": {
          "base_uri": "https://localhost:8080/"
        }
      },
      "id": "GeJKZvh6F9PO",
      "execution_count": null,
      "outputs": [
        {
          "output_type": "stream",
          "name": "stdout",
          "text": [
            "Query: What is the main focus of the whitepaper titled From Vision to Reality: Private LTE Networks Transforming Utility Grids?\n",
            "Answer: The main focus of the whitepaper titled \"From Vision to Reality: Private LTE Networks Transforming Utility Grids\" is to explore the revolutionary impact of private LTE networks on the utility sector. It delves into the benefits and real-world applications of private LTE networks that utilities are actively pursuing. The whitepaper aims to showcase how private LTE networks are shaping the energy landscape and empowering utilities in the era of smart grids.\n"
          ]
        }
      ]
    },
    {
      "cell_type": "code",
      "source": [
        "query = \"Who is the author of the whitepaper, and what professional qualifications does the author hold?\"\n",
        "query_engine = index.as_query_engine()\n",
        "answer = query_engine.query(query)\n",
        "\n",
        "#print(answer.get_formatted_sources())\n",
        "print(\"Query:\", query)\n",
        "print(\"Answer:\", answer)"
      ],
      "metadata": {
        "id": "oaPgJZAGKuik",
        "outputId": "68a0031d-7052-4f2e-e9ed-713ead298100",
        "colab": {
          "base_uri": "https://localhost:8080/"
        }
      },
      "id": "oaPgJZAGKuik",
      "execution_count": null,
      "outputs": [
        {
          "output_type": "stream",
          "name": "stdout",
          "text": [
            "Query: Who is the author of the whitepaper, and what professional qualifications does the author hold?\n",
            "Answer: The author of the whitepaper is Changiz Sadr, P.Eng., FEC, CISSP.\n"
          ]
        }
      ]
    },
    {
      "cell_type": "code",
      "source": [
        "query = \"In what ways do utilities face challenges in the modern world, and why is there a growing need for them to modernize their infrastructure?\"\n",
        "query_engine = index.as_query_engine()\n",
        "answer = query_engine.query(query)\n",
        "\n",
        "#print(answer.get_formatted_sources())\n",
        "print(\"Query:\", query)\n",
        "print(\"Answer:\", answer)"
      ],
      "metadata": {
        "id": "E9MlfpdZK1bB",
        "outputId": "db909bf9-d51f-4aaf-9ea0-fd4925e84206",
        "colab": {
          "base_uri": "https://localhost:8080/"
        }
      },
      "id": "E9MlfpdZK1bB",
      "execution_count": null,
      "outputs": [
        {
          "output_type": "stream",
          "name": "stdout",
          "text": [
            "Query: In what ways do utilities face challenges in the modern world, and why is there a growing need for them to modernize their infrastructure?\n",
            "Answer: Utilities face challenges in the modern world due to the increasing demand for reliable energy distribution. As the world becomes more digital and interconnected, utilities need to modernize their infrastructure to meet the evolving energy landscape. This pursuit of efficiency, sustainability, and reliability has led utilities to explore innovative technologies. One such transformative solution is the adoption of private LTE networks, which offer enhanced connectivity, security, and grid management capabilities. These networks enable utilities to streamline grid operations, enhance grid resiliency, and support mission-critical applications. The growing need for utilities to modernize their infrastructure is driven by the adoption of smart grid technologies, smart meters, and distributed energy resources, which require reliable and secure communications networks that can handle massive data flows in real-time. Private LTE networks provide utilities with a dedicated and secure communication platform, low latency for real-time communication, high capacity and scalability, and seamless integration with existing infrastructure. By modernizing their infrastructure with private LTE networks, utilities can enhance their operations, unlock new possibilities, and drive advancements in grid management and energy delivery.\n"
          ]
        }
      ]
    },
    {
      "cell_type": "code",
      "source": [
        "query = \"What role did LTE (Long-Term Evolution) technology play in revolutionizing mobile communications, and how has it become the foundation for 4G and 5G networks?\"\n",
        "query_engine = index.as_query_engine()\n",
        "answer = query_engine.query(query)\n",
        "\n",
        "#print(answer.get_formatted_sources())\n",
        "print(\"Query:\", query)\n",
        "print(\"Answer:\", answer)"
      ],
      "metadata": {
        "id": "rCNpNTIWK_Y_",
        "outputId": "e43bc876-1e08-47b9-9229-7771910554e5",
        "colab": {
          "base_uri": "https://localhost:8080/"
        }
      },
      "id": "rCNpNTIWK_Y_",
      "execution_count": null,
      "outputs": [
        {
          "output_type": "stream",
          "name": "stdout",
          "text": [
            "Query: What role did LTE (Long-Term Evolution) technology play in revolutionizing mobile communications, and how has it become the foundation for 4G and 5G networks?\n",
            "Answer: LTE (Long-Term Evolution) technology revolutionized mobile communications by providing high-speed data transmission, low latency, and improved network performance. It has become the foundation for 4G and 5G networks due to its ability to handle large data volumes and support a vast number of connected devices. LTE technology has paved the way for faster and more reliable mobile connectivity, enabling the development of advanced applications and services that require high-speed data transmission and real-time communication.\n"
          ]
        }
      ]
    },
    {
      "cell_type": "code",
      "source": [
        "query = \"How do private LTE networks differ from public cellular networks, and what advantages do they offer to utilities in terms of control and security?\"\n",
        "query_engine = index.as_query_engine()\n",
        "answer = query_engine.query(query)\n",
        "\n",
        "#print(answer.get_formatted_sources())\n",
        "print(\"Query:\", query)\n",
        "print(\"Answer:\", answer)"
      ],
      "metadata": {
        "id": "LGrmgTmuLHf1",
        "outputId": "94d59cfa-3fbc-4ed1-fb2e-71363b1eeafe",
        "colab": {
          "base_uri": "https://localhost:8080/"
        }
      },
      "id": "LGrmgTmuLHf1",
      "execution_count": null,
      "outputs": [
        {
          "output_type": "stream",
          "name": "stdout",
          "text": [
            "Query: How do private LTE networks differ from public cellular networks, and what advantages do they offer to utilities in terms of control and security?\n",
            "Answer: Private LTE networks differ from public cellular networks in that they are localized, closed-network deployments dedicated to a single organization, such as a utility. In contrast, public cellular networks are operated by telecommunications carriers and are accessible to the general public. \n",
            "\n",
            "Private LTE networks offer utilities enhanced control and security compared to public cellular networks. Utilities have complete control over the network resources, allowing them to prioritize access and ensure reliable communication for mission-critical applications. The closed-network architecture of private LTE networks also reduces the risk of cyber threats and unauthorized access, safeguarding critical grid information. Additionally, private LTE networks provide superior reliability, minimizing communication downtime during emergencies and ensuring continuous grid operations.\n"
          ]
        }
      ]
    },
    {
      "cell_type": "code",
      "source": [
        "query = \"What are some of the applications of private LTE networks in the utility sector, as mentioned in the whitepaper?\"\n",
        "query_engine = index.as_query_engine()\n",
        "answer = query_engine.query(query)\n",
        "\n",
        "#print(answer.get_formatted_sources())\n",
        "print(\"Query:\", query)\n",
        "print(\"Answer:\", answer)"
      ],
      "metadata": {
        "id": "Gl4maDlwMyfQ",
        "outputId": "d3e06f00-ae1a-46e0-f293-13a214c6862c",
        "colab": {
          "base_uri": "https://localhost:8080/"
        }
      },
      "id": "Gl4maDlwMyfQ",
      "execution_count": null,
      "outputs": [
        {
          "output_type": "stream",
          "name": "stdout",
          "text": [
            "Query: What are some of the applications of private LTE networks in the utility sector, as mentioned in the whitepaper?\n",
            "Answer: Private LTE networks in the utility sector can be used for a wide range of applications. Some of these applications include distribution automation, outage management, demand response, advanced metering infrastructure, grid optimization, and autonomous grid control. These networks enable seamless integration of diverse technologies for improved grid monitoring, control, and optimization.\n"
          ]
        }
      ]
    },
    {
      "cell_type": "code",
      "source": [
        "query = \"What are some of the technical considerations mentioned in the whitepaper that utilities should take into account during the planning and implementation of private LTE networks for efficient grid communication?\"\n",
        "query_engine = index.as_query_engine()\n",
        "answer = query_engine.query(query)\n",
        "\n",
        "#print(answer.get_formatted_sources())\n",
        "print(\"Query:\", query)\n",
        "print(\"Answer:\", answer)"
      ],
      "metadata": {
        "id": "7sD8hk_0NEQ3",
        "outputId": "3b0b48db-e9bb-4507-cf8d-c5b362e5a230",
        "colab": {
          "base_uri": "https://localhost:8080/"
        }
      },
      "id": "7sD8hk_0NEQ3",
      "execution_count": null,
      "outputs": [
        {
          "output_type": "stream",
          "name": "stdout",
          "text": [
            "Query: What are some of the technical considerations mentioned in the whitepaper that utilities should take into account during the planning and implementation of private LTE networks for efficient grid communication?\n",
            "Answer: During the planning and implementation of private LTE networks for efficient grid communication, utilities should consider the following technical considerations:\n",
            "\n",
            "1. Spectrum Allocation: Selecting the appropriate spectrum for the private LTE network is crucial to ensure optimal performance and interference management. Utilities may need to work with regulatory bodies to acquire licensed or unlicensed spectrum suitable for their specific grid applications.\n",
            "\n",
            "2. Network Architecture: Designing the network architecture involves planning the infrastructure layout, base station locations, and network topology to achieve desired coverage and capacity. Utilities should consider the use of small cells, macro cells, or a hybrid approach depending on their coverage requirements and geographical landscape.\n",
            "\n",
            "3. Security and Authentication: Implementing robust security measures, such as encryption and authentication protocols, is essential to safeguard critical grid data and prevent unauthorized access. Utilities must adhere to industry standards and best practices to ensure the confidentiality and integrity of communication within the private LTE network.\n",
            "\n",
            "4. Interoperability and Integration: Ensuring interoperability between existing utility systems and the private LTE network is crucial for seamless data exchange and grid integration. Integrating legacy systems, SCADA (Supervisory Control and Data Acquisition), and smart grid applications with the private LTE network requires careful planning and compatibility assessment.\n",
            "\n",
            "5. Quality of Service (QoS) and Prioritization: Defining Quality of Service parameters and prioritizing network traffic based on the criticality of grid applications is essential for maintaining low latency and reliable communication. Utilities must allocate network resources appropriately to prioritize mission-critical applications during peak usage or emergency scenarios.\n",
            "\n",
            "6. Redundancy and Resilience: Building redundancy into private LTE network infrastructure ensures uninterrupted grid communication, even in the event of equipment failure or network disruption. Employing redundancy mechanisms such as failover systems and redundant backhaul connections enhances network resilience.\n",
            "\n",
            "7. Network Management and Monitoring: Implementing robust network management and monitoring tools enables utilities to proactively monitor network performance, diagnose issues, and optimize resources. Real-time monitoring allows utilities to identify potential network bottlenecks and take proactive measures to maintain peak network performance.\n",
            "\n",
            "These technical considerations are important for utilities to ensure a robust and efficient grid communication system when deploying private LTE networks.\n"
          ]
        }
      ]
    },
    {
      "cell_type": "code",
      "source": [
        "query = \"When implementing a Private LTE Networks why is spectrum allocation crucial?\"\n",
        "query_engine = index.as_query_engine()\n",
        "answer = query_engine.query(query)\n",
        "\n",
        "#print(answer.get_formatted_sources())\n",
        "print(\"Query:\", query)\n",
        "print(\"Answer:\", answer)"
      ],
      "metadata": {
        "id": "E4-_JEpHdqGt",
        "outputId": "65ad465b-b703-4527-d8b6-a12a0347d72b",
        "colab": {
          "base_uri": "https://localhost:8080/"
        }
      },
      "id": "E4-_JEpHdqGt",
      "execution_count": null,
      "outputs": [
        {
          "output_type": "stream",
          "name": "stdout",
          "text": [
            "Query: When implementing a Private LTE Networks why is spectrum allocation crucial?\n",
            "Answer: Spectrum allocation is crucial when implementing a Private LTE Network because it ensures optimal performance and interference management. By selecting the appropriate spectrum, utilities can avoid interference with other existing communication systems, such as public cellular networks, and maintain the desired network performance. Spectrum analysis and coordination are necessary to prevent potential interference issues and ensure that the Private LTE Network operates efficiently. Additionally, utilities may need to work with regulatory bodies to acquire licensed or unlicensed spectrum suitable for their specific grid applications.\n"
          ]
        }
      ]
    },
    {
      "cell_type": "code",
      "source": [
        "query = \"Tell me why Edge-computing will play a role in the future of Private LTE networks?\"\n",
        "query_engine = index.as_query_engine()\n",
        "answer = query_engine.query(query)\n",
        "\n",
        "#print(answer.get_formatted_sources())\n",
        "print(\"Query:\", query)\n",
        "print(\"Answer:\", answer)"
      ],
      "metadata": {
        "id": "B4zRJkU4dvv6",
        "outputId": "9fa4781c-4c50-49dd-bbf2-4ff287cfcff0",
        "colab": {
          "base_uri": "https://localhost:8080/"
        }
      },
      "id": "B4zRJkU4dvv6",
      "execution_count": null,
      "outputs": [
        {
          "output_type": "stream",
          "name": "stdout",
          "text": [
            "Query: Tell me why Edge-computing will play a role in the future of Private LTE networks?\n",
            "Answer: Edge computing will play a role in the future of private LTE networks because it offers several advantages that are beneficial for the utility sector. By bringing computing power closer to the edge of the network, edge computing reduces latency and enables real-time data processing and analysis. This is particularly important for mission-critical applications in the utility sector, such as grid automation and outage management, where quick decision-making and efficient grid monitoring are essential. Additionally, edge computing allows for localized data processing, which can help utilities manage the vast amount of data generated by IoT devices, such as smart meters and sensors, more efficiently. Overall, edge computing enhances the capabilities of private LTE networks by enabling faster and more efficient data processing, improving grid operations, and supporting the evolving needs of utilities in the era of smart grids.\n"
          ]
        }
      ]
    }
  ],
  "metadata": {
    "kernelspec": {
      "display_name": "Python 3 (ipykernel)",
      "language": "python",
      "name": "python3"
    },
    "language_info": {
      "codemirror_mode": {
        "name": "ipython",
        "version": 3
      },
      "file_extension": ".py",
      "mimetype": "text/x-python",
      "name": "python",
      "nbconvert_exporter": "python",
      "pygments_lexer": "ipython3"
    },
    "colab": {
      "provenance": [],
      "include_colab_link": true
    }
  },
  "nbformat": 4,
  "nbformat_minor": 5
}